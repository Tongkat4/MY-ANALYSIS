{
  "nbformat": 4,
  "nbformat_minor": 0,
  "metadata": {
    "colab": {
      "name": "RANDOMFOREST TEST.ipynb",
      "provenance": [],
      "mount_file_id": "1RrjovGFS9F5qOhJY6vRORHmyvdhkDIAH",
      "authorship_tag": "ABX9TyNU53kh99TMqugkMNMovErO",
      "include_colab_link": true
    },
    "kernelspec": {
      "name": "python3",
      "display_name": "Python 3"
    },
    "language_info": {
      "name": "python"
    }
  },
  "cells": [
    {
      "cell_type": "markdown",
      "metadata": {
        "id": "view-in-github",
        "colab_type": "text"
      },
      "source": [
        "<a href=\"https://colab.research.google.com/github/Tongkat4/MY-ANALYSIS/blob/main/RANDOMFOREST_TEST.ipynb\" target=\"_parent\"><img src=\"https://colab.research.google.com/assets/colab-badge.svg\" alt=\"Open In Colab\"/></a>"
      ]
    },
    {
      "cell_type": "code",
      "metadata": {
        "colab": {
          "base_uri": "https://localhost:8080/"
        },
        "id": "igUCnXjktcNT",
        "outputId": "19d4c3a9-2823-44c6-ac6a-d2c7a9d87371"
      },
      "source": [
        "from google.colab  import drive\n",
        "drive.mount('/content/drive')\n",
        "from matplotlib import pyplot as plt\n",
        "import pandas as pd\n",
        "import numpy as np"
      ],
      "execution_count": null,
      "outputs": [
        {
          "output_type": "stream",
          "text": [
            "Drive already mounted at /content/drive; to attempt to forcibly remount, call drive.mount(\"/content/drive\", force_remount=True).\n"
          ],
          "name": "stdout"
        }
      ]
    },
    {
      "cell_type": "code",
      "metadata": {
        "colab": {
          "base_uri": "https://localhost:8080/",
          "height": 419
        },
        "id": "5LNx9J1BvGG_",
        "outputId": "20e53511-1c4d-402e-afbd-b9751136121f"
      },
      "source": [
        "pru14 = pd.read_csv('drive/MyDrive/random forest(pru14).csv')\n",
        "pru14"
      ],
      "execution_count": null,
      "outputs": [
        {
          "output_type": "execute_result",
          "data": {
            "text/html": [
              "<div>\n",
              "<style scoped>\n",
              "    .dataframe tbody tr th:only-of-type {\n",
              "        vertical-align: middle;\n",
              "    }\n",
              "\n",
              "    .dataframe tbody tr th {\n",
              "        vertical-align: top;\n",
              "    }\n",
              "\n",
              "    .dataframe thead th {\n",
              "        text-align: right;\n",
              "    }\n",
              "</style>\n",
              "<table border=\"1\" class=\"dataframe\">\n",
              "  <thead>\n",
              "    <tr style=\"text-align: right;\">\n",
              "      <th></th>\n",
              "      <th>pplid</th>\n",
              "      <th>parid</th>\n",
              "      <th>dunid</th>\n",
              "      <th>age</th>\n",
              "      <th>jantina</th>\n",
              "      <th>bangsasemenanjung</th>\n",
              "      <th>bangsasarawak</th>\n",
              "      <th>bangsasabah</th>\n",
              "      <th>umur41_ats</th>\n",
              "      <th>parti</th>\n",
              "    </tr>\n",
              "  </thead>\n",
              "  <tbody>\n",
              "    <tr>\n",
              "      <th>0</th>\n",
              "      <td>14904417058079100000</td>\n",
              "      <td>62</td>\n",
              "      <td>22</td>\n",
              "      <td>108</td>\n",
              "      <td>L</td>\n",
              "      <td>INDIA</td>\n",
              "      <td>LAIN-LAIN</td>\n",
              "      <td>LAIN-LAIN</td>\n",
              "      <td>1</td>\n",
              "      <td>DAP</td>\n",
              "    </tr>\n",
              "    <tr>\n",
              "      <th>1</th>\n",
              "      <td>8856425594602710000</td>\n",
              "      <td>62</td>\n",
              "      <td>22</td>\n",
              "      <td>108</td>\n",
              "      <td>P</td>\n",
              "      <td>INDIA</td>\n",
              "      <td>LAIN-LAIN</td>\n",
              "      <td>LAIN-LAIN</td>\n",
              "      <td>1</td>\n",
              "      <td>BN</td>\n",
              "    </tr>\n",
              "    <tr>\n",
              "      <th>2</th>\n",
              "      <td>9030229112814880000</td>\n",
              "      <td>62</td>\n",
              "      <td>21</td>\n",
              "      <td>108</td>\n",
              "      <td>P</td>\n",
              "      <td>CINA</td>\n",
              "      <td>CINA</td>\n",
              "      <td>CINA</td>\n",
              "      <td>1</td>\n",
              "      <td>BN</td>\n",
              "    </tr>\n",
              "    <tr>\n",
              "      <th>3</th>\n",
              "      <td>17366212710566700000</td>\n",
              "      <td>62</td>\n",
              "      <td>22</td>\n",
              "      <td>107</td>\n",
              "      <td>L</td>\n",
              "      <td>CINA</td>\n",
              "      <td>CINA</td>\n",
              "      <td>CINA</td>\n",
              "      <td>1</td>\n",
              "      <td>BN</td>\n",
              "    </tr>\n",
              "    <tr>\n",
              "      <th>4</th>\n",
              "      <td>2285398768685050000</td>\n",
              "      <td>62</td>\n",
              "      <td>22</td>\n",
              "      <td>107</td>\n",
              "      <td>L</td>\n",
              "      <td>INDIA</td>\n",
              "      <td>LAIN-LAIN</td>\n",
              "      <td>LAIN-LAIN</td>\n",
              "      <td>1</td>\n",
              "      <td>BN</td>\n",
              "    </tr>\n",
              "    <tr>\n",
              "      <th>...</th>\n",
              "      <td>...</td>\n",
              "      <td>...</td>\n",
              "      <td>...</td>\n",
              "      <td>...</td>\n",
              "      <td>...</td>\n",
              "      <td>...</td>\n",
              "      <td>...</td>\n",
              "      <td>...</td>\n",
              "      <td>...</td>\n",
              "      <td>...</td>\n",
              "    </tr>\n",
              "    <tr>\n",
              "      <th>53088</th>\n",
              "      <td>11744860569481500000</td>\n",
              "      <td>62</td>\n",
              "      <td>22</td>\n",
              "      <td>24</td>\n",
              "      <td>L</td>\n",
              "      <td>INDIA</td>\n",
              "      <td>LAIN-LAIN</td>\n",
              "      <td>LAIN-LAIN</td>\n",
              "      <td>0</td>\n",
              "      <td>DAP</td>\n",
              "    </tr>\n",
              "    <tr>\n",
              "      <th>53089</th>\n",
              "      <td>1435955332935190000</td>\n",
              "      <td>62</td>\n",
              "      <td>22</td>\n",
              "      <td>24</td>\n",
              "      <td>L</td>\n",
              "      <td>INDIA</td>\n",
              "      <td>LAIN-LAIN</td>\n",
              "      <td>LAIN-LAIN</td>\n",
              "      <td>0</td>\n",
              "      <td>DAP</td>\n",
              "    </tr>\n",
              "    <tr>\n",
              "      <th>53090</th>\n",
              "      <td>3869047154407170000</td>\n",
              "      <td>62</td>\n",
              "      <td>22</td>\n",
              "      <td>24</td>\n",
              "      <td>L</td>\n",
              "      <td>BUMIPUTRA</td>\n",
              "      <td>LAIN-LAIN</td>\n",
              "      <td>BBI</td>\n",
              "      <td>0</td>\n",
              "      <td>DAP</td>\n",
              "    </tr>\n",
              "    <tr>\n",
              "      <th>53091</th>\n",
              "      <td>5586408959507350000</td>\n",
              "      <td>62</td>\n",
              "      <td>22</td>\n",
              "      <td>24</td>\n",
              "      <td>L</td>\n",
              "      <td>MELAYU</td>\n",
              "      <td>MELAYU/MELANAU</td>\n",
              "      <td>BI</td>\n",
              "      <td>0</td>\n",
              "      <td>DAP</td>\n",
              "    </tr>\n",
              "    <tr>\n",
              "      <th>53092</th>\n",
              "      <td>17102434173308400000</td>\n",
              "      <td>62</td>\n",
              "      <td>21</td>\n",
              "      <td>24</td>\n",
              "      <td>P</td>\n",
              "      <td>MELAYU</td>\n",
              "      <td>MELAYU/MELANAU</td>\n",
              "      <td>BI</td>\n",
              "      <td>0</td>\n",
              "      <td>BN</td>\n",
              "    </tr>\n",
              "  </tbody>\n",
              "</table>\n",
              "<p>53093 rows × 10 columns</p>\n",
              "</div>"
            ],
            "text/plain": [
              "                      pplid  parid  dunid  ...  bangsasabah umur41_ats parti\n",
              "0      14904417058079100000     62     22  ...    LAIN-LAIN          1   DAP\n",
              "1       8856425594602710000     62     22  ...    LAIN-LAIN          1    BN\n",
              "2       9030229112814880000     62     21  ...         CINA          1    BN\n",
              "3      17366212710566700000     62     22  ...         CINA          1    BN\n",
              "4       2285398768685050000     62     22  ...    LAIN-LAIN          1    BN\n",
              "...                     ...    ...    ...  ...          ...        ...   ...\n",
              "53088  11744860569481500000     62     22  ...    LAIN-LAIN          0   DAP\n",
              "53089   1435955332935190000     62     22  ...    LAIN-LAIN          0   DAP\n",
              "53090   3869047154407170000     62     22  ...          BBI          0   DAP\n",
              "53091   5586408959507350000     62     22  ...           BI          0   DAP\n",
              "53092  17102434173308400000     62     21  ...           BI          0    BN\n",
              "\n",
              "[53093 rows x 10 columns]"
            ]
          },
          "metadata": {
            "tags": []
          },
          "execution_count": 67
        }
      ]
    },
    {
      "cell_type": "code",
      "metadata": {
        "id": "2B3meCHuMZ6B"
      },
      "source": [
        "#drop  irrelevant columns\n",
        "pru14.drop(['age'], axis=1, inplace=True)\n",
        "pru14.drop(['parid'], axis=1, inplace=True)\n",
        "#pru14.drop(['jantina'], axis=1, inplace=True)\n",
        "#pru14.drop(['umur41_ats'], axis=1, inplace=True)"
      ],
      "execution_count": null,
      "outputs": []
    },
    {
      "cell_type": "code",
      "metadata": {
        "colab": {
          "base_uri": "https://localhost:8080/"
        },
        "id": "wOPMWfrFxVQB",
        "outputId": "6dbc4fc1-eccc-4208-b7d7-15b119214fd5"
      },
      "source": [
        "sizes= pru14['bangsasarawak'].value_counts(sort=1)\n",
        "sizes"
      ],
      "execution_count": null,
      "outputs": [
        {
          "output_type": "execute_result",
          "data": {
            "text/plain": [
              "CINA              19224\n",
              "MELAYU/MELANAU    17988\n",
              "LAIN-LAIN         15864\n",
              "IBAN                 10\n",
              "ORANG ULU             5\n",
              "BIDAYUH               2\n",
              "Name: bangsasarawak, dtype: int64"
            ]
          },
          "metadata": {
            "tags": []
          },
          "execution_count": 69
        }
      ]
    },
    {
      "cell_type": "code",
      "metadata": {
        "colab": {
          "base_uri": "https://localhost:8080/",
          "height": 1000
        },
        "id": "JGeBL_LBIO7Q",
        "outputId": "559f663b-8ec0-46d5-89e0-c46b594cf9fc"
      },
      "source": [
        "#convert non-numeric to numeric\n",
        "pru14.parti[pru14.parti == 'BN'] = 1\n",
        "pru14.parti[pru14.parti == 'DAP'] = 2\n",
        "pru14.parti[pru14.parti == 'PAS'] = 3\n",
        "pru14.jantina[pru14.jantina == 'L'] = 1\n",
        "pru14.jantina[pru14.jantina == 'P'] = 2\n",
        "pru14.bangsasemenanjung[pru14.bangsasemenanjung == 'MELAYU'] = 1\n",
        "pru14.bangsasemenanjung[pru14.bangsasemenanjung == 'CINA'] = 2\n",
        "pru14.bangsasemenanjung[pru14.bangsasemenanjung == 'INDIA'] = 3\n",
        "pru14.bangsasemenanjung[pru14.bangsasemenanjung == 'BUMIPUTRA'] = 4\n",
        "pru14.bangsasemenanjung[pru14.bangsasemenanjung == 'LAIN-LAIN'] = 5\n",
        "pru14.bangsasarawak[pru14.bangsasarawak == 'MELAYU/MELANAU'] = 1\n",
        "pru14.bangsasarawak[pru14.bangsasarawak == 'CINA'] = 2\n",
        "pru14.bangsasarawak[pru14.bangsasarawak == 'LAIN-LAIN'] = 3\n",
        "pru14.bangsasarawak[pru14.bangsasarawak == 'IBAN'] = 4\n",
        "pru14.bangsasarawak[pru14.bangsasarawak == 'ORANG ULU'] = 5\n",
        "pru14.bangsasarawak[pru14.bangsasarawak == 'BIDAYUH'] = 6\n",
        "pru14.bangsasabah[pru14.bangsasabah == 'BI'] = 1\n",
        "pru14.bangsasabah[pru14.bangsasabah == 'CINA'] = 2\n",
        "pru14.bangsasabah[pru14.bangsasabah == 'LAIN-LAIN'] = 3\n",
        "pru14.bangsasabah[pru14.bangsasabah == 'BBI'] = 4\n",
        "pru14\n"
      ],
      "execution_count": null,
      "outputs": [
        {
          "output_type": "stream",
          "text": [
            "/usr/local/lib/python3.7/dist-packages/ipykernel_launcher.py:2: SettingWithCopyWarning: \n",
            "A value is trying to be set on a copy of a slice from a DataFrame\n",
            "\n",
            "See the caveats in the documentation: https://pandas.pydata.org/pandas-docs/stable/user_guide/indexing.html#returning-a-view-versus-a-copy\n",
            "  \n",
            "/usr/local/lib/python3.7/dist-packages/ipykernel_launcher.py:3: SettingWithCopyWarning: \n",
            "A value is trying to be set on a copy of a slice from a DataFrame\n",
            "\n",
            "See the caveats in the documentation: https://pandas.pydata.org/pandas-docs/stable/user_guide/indexing.html#returning-a-view-versus-a-copy\n",
            "  This is separate from the ipykernel package so we can avoid doing imports until\n",
            "/usr/local/lib/python3.7/dist-packages/ipykernel_launcher.py:4: SettingWithCopyWarning: \n",
            "A value is trying to be set on a copy of a slice from a DataFrame\n",
            "\n",
            "See the caveats in the documentation: https://pandas.pydata.org/pandas-docs/stable/user_guide/indexing.html#returning-a-view-versus-a-copy\n",
            "  after removing the cwd from sys.path.\n",
            "/usr/local/lib/python3.7/dist-packages/ipykernel_launcher.py:5: SettingWithCopyWarning: \n",
            "A value is trying to be set on a copy of a slice from a DataFrame\n",
            "\n",
            "See the caveats in the documentation: https://pandas.pydata.org/pandas-docs/stable/user_guide/indexing.html#returning-a-view-versus-a-copy\n",
            "  \"\"\"\n",
            "/usr/local/lib/python3.7/dist-packages/ipykernel_launcher.py:6: SettingWithCopyWarning: \n",
            "A value is trying to be set on a copy of a slice from a DataFrame\n",
            "\n",
            "See the caveats in the documentation: https://pandas.pydata.org/pandas-docs/stable/user_guide/indexing.html#returning-a-view-versus-a-copy\n",
            "  \n",
            "/usr/local/lib/python3.7/dist-packages/ipykernel_launcher.py:7: SettingWithCopyWarning: \n",
            "A value is trying to be set on a copy of a slice from a DataFrame\n",
            "\n",
            "See the caveats in the documentation: https://pandas.pydata.org/pandas-docs/stable/user_guide/indexing.html#returning-a-view-versus-a-copy\n",
            "  import sys\n",
            "/usr/local/lib/python3.7/dist-packages/ipykernel_launcher.py:8: SettingWithCopyWarning: \n",
            "A value is trying to be set on a copy of a slice from a DataFrame\n",
            "\n",
            "See the caveats in the documentation: https://pandas.pydata.org/pandas-docs/stable/user_guide/indexing.html#returning-a-view-versus-a-copy\n",
            "  \n",
            "/usr/local/lib/python3.7/dist-packages/ipykernel_launcher.py:9: SettingWithCopyWarning: \n",
            "A value is trying to be set on a copy of a slice from a DataFrame\n",
            "\n",
            "See the caveats in the documentation: https://pandas.pydata.org/pandas-docs/stable/user_guide/indexing.html#returning-a-view-versus-a-copy\n",
            "  if __name__ == '__main__':\n",
            "/usr/local/lib/python3.7/dist-packages/ipykernel_launcher.py:10: SettingWithCopyWarning: \n",
            "A value is trying to be set on a copy of a slice from a DataFrame\n",
            "\n",
            "See the caveats in the documentation: https://pandas.pydata.org/pandas-docs/stable/user_guide/indexing.html#returning-a-view-versus-a-copy\n",
            "  # Remove the CWD from sys.path while we load stuff.\n",
            "/usr/local/lib/python3.7/dist-packages/ipykernel_launcher.py:11: SettingWithCopyWarning: \n",
            "A value is trying to be set on a copy of a slice from a DataFrame\n",
            "\n",
            "See the caveats in the documentation: https://pandas.pydata.org/pandas-docs/stable/user_guide/indexing.html#returning-a-view-versus-a-copy\n",
            "  # This is added back by InteractiveShellApp.init_path()\n",
            "/usr/local/lib/python3.7/dist-packages/ipykernel_launcher.py:12: SettingWithCopyWarning: \n",
            "A value is trying to be set on a copy of a slice from a DataFrame\n",
            "\n",
            "See the caveats in the documentation: https://pandas.pydata.org/pandas-docs/stable/user_guide/indexing.html#returning-a-view-versus-a-copy\n",
            "  if sys.path[0] == '':\n",
            "/usr/local/lib/python3.7/dist-packages/ipykernel_launcher.py:13: SettingWithCopyWarning: \n",
            "A value is trying to be set on a copy of a slice from a DataFrame\n",
            "\n",
            "See the caveats in the documentation: https://pandas.pydata.org/pandas-docs/stable/user_guide/indexing.html#returning-a-view-versus-a-copy\n",
            "  del sys.path[0]\n",
            "/usr/local/lib/python3.7/dist-packages/ipykernel_launcher.py:14: SettingWithCopyWarning: \n",
            "A value is trying to be set on a copy of a slice from a DataFrame\n",
            "\n",
            "See the caveats in the documentation: https://pandas.pydata.org/pandas-docs/stable/user_guide/indexing.html#returning-a-view-versus-a-copy\n",
            "  \n",
            "/usr/local/lib/python3.7/dist-packages/ipykernel_launcher.py:15: SettingWithCopyWarning: \n",
            "A value is trying to be set on a copy of a slice from a DataFrame\n",
            "\n",
            "See the caveats in the documentation: https://pandas.pydata.org/pandas-docs/stable/user_guide/indexing.html#returning-a-view-versus-a-copy\n",
            "  from ipykernel import kernelapp as app\n",
            "/usr/local/lib/python3.7/dist-packages/ipykernel_launcher.py:16: SettingWithCopyWarning: \n",
            "A value is trying to be set on a copy of a slice from a DataFrame\n",
            "\n",
            "See the caveats in the documentation: https://pandas.pydata.org/pandas-docs/stable/user_guide/indexing.html#returning-a-view-versus-a-copy\n",
            "  app.launch_new_instance()\n",
            "/usr/local/lib/python3.7/dist-packages/ipykernel_launcher.py:17: SettingWithCopyWarning: \n",
            "A value is trying to be set on a copy of a slice from a DataFrame\n",
            "\n",
            "See the caveats in the documentation: https://pandas.pydata.org/pandas-docs/stable/user_guide/indexing.html#returning-a-view-versus-a-copy\n",
            "/usr/local/lib/python3.7/dist-packages/ipykernel_launcher.py:18: SettingWithCopyWarning: \n",
            "A value is trying to be set on a copy of a slice from a DataFrame\n",
            "\n",
            "See the caveats in the documentation: https://pandas.pydata.org/pandas-docs/stable/user_guide/indexing.html#returning-a-view-versus-a-copy\n",
            "/usr/local/lib/python3.7/dist-packages/ipykernel_launcher.py:19: SettingWithCopyWarning: \n",
            "A value is trying to be set on a copy of a slice from a DataFrame\n",
            "\n",
            "See the caveats in the documentation: https://pandas.pydata.org/pandas-docs/stable/user_guide/indexing.html#returning-a-view-versus-a-copy\n",
            "/usr/local/lib/python3.7/dist-packages/ipykernel_launcher.py:20: SettingWithCopyWarning: \n",
            "A value is trying to be set on a copy of a slice from a DataFrame\n",
            "\n",
            "See the caveats in the documentation: https://pandas.pydata.org/pandas-docs/stable/user_guide/indexing.html#returning-a-view-versus-a-copy\n",
            "/usr/local/lib/python3.7/dist-packages/ipykernel_launcher.py:21: SettingWithCopyWarning: \n",
            "A value is trying to be set on a copy of a slice from a DataFrame\n",
            "\n",
            "See the caveats in the documentation: https://pandas.pydata.org/pandas-docs/stable/user_guide/indexing.html#returning-a-view-versus-a-copy\n"
          ],
          "name": "stderr"
        },
        {
          "output_type": "execute_result",
          "data": {
            "text/html": [
              "<div>\n",
              "<style scoped>\n",
              "    .dataframe tbody tr th:only-of-type {\n",
              "        vertical-align: middle;\n",
              "    }\n",
              "\n",
              "    .dataframe tbody tr th {\n",
              "        vertical-align: top;\n",
              "    }\n",
              "\n",
              "    .dataframe thead th {\n",
              "        text-align: right;\n",
              "    }\n",
              "</style>\n",
              "<table border=\"1\" class=\"dataframe\">\n",
              "  <thead>\n",
              "    <tr style=\"text-align: right;\">\n",
              "      <th></th>\n",
              "      <th>pplid</th>\n",
              "      <th>dunid</th>\n",
              "      <th>jantina</th>\n",
              "      <th>bangsasemenanjung</th>\n",
              "      <th>bangsasarawak</th>\n",
              "      <th>bangsasabah</th>\n",
              "      <th>umur41_ats</th>\n",
              "      <th>parti</th>\n",
              "    </tr>\n",
              "  </thead>\n",
              "  <tbody>\n",
              "    <tr>\n",
              "      <th>0</th>\n",
              "      <td>14904417058079100000</td>\n",
              "      <td>22</td>\n",
              "      <td>1</td>\n",
              "      <td>3</td>\n",
              "      <td>3</td>\n",
              "      <td>3</td>\n",
              "      <td>1</td>\n",
              "      <td>2</td>\n",
              "    </tr>\n",
              "    <tr>\n",
              "      <th>1</th>\n",
              "      <td>8856425594602710000</td>\n",
              "      <td>22</td>\n",
              "      <td>2</td>\n",
              "      <td>3</td>\n",
              "      <td>3</td>\n",
              "      <td>3</td>\n",
              "      <td>1</td>\n",
              "      <td>1</td>\n",
              "    </tr>\n",
              "    <tr>\n",
              "      <th>2</th>\n",
              "      <td>9030229112814880000</td>\n",
              "      <td>21</td>\n",
              "      <td>2</td>\n",
              "      <td>2</td>\n",
              "      <td>2</td>\n",
              "      <td>2</td>\n",
              "      <td>1</td>\n",
              "      <td>1</td>\n",
              "    </tr>\n",
              "    <tr>\n",
              "      <th>3</th>\n",
              "      <td>17366212710566700000</td>\n",
              "      <td>22</td>\n",
              "      <td>1</td>\n",
              "      <td>2</td>\n",
              "      <td>2</td>\n",
              "      <td>2</td>\n",
              "      <td>1</td>\n",
              "      <td>1</td>\n",
              "    </tr>\n",
              "    <tr>\n",
              "      <th>4</th>\n",
              "      <td>2285398768685050000</td>\n",
              "      <td>22</td>\n",
              "      <td>1</td>\n",
              "      <td>3</td>\n",
              "      <td>3</td>\n",
              "      <td>3</td>\n",
              "      <td>1</td>\n",
              "      <td>1</td>\n",
              "    </tr>\n",
              "    <tr>\n",
              "      <th>...</th>\n",
              "      <td>...</td>\n",
              "      <td>...</td>\n",
              "      <td>...</td>\n",
              "      <td>...</td>\n",
              "      <td>...</td>\n",
              "      <td>...</td>\n",
              "      <td>...</td>\n",
              "      <td>...</td>\n",
              "    </tr>\n",
              "    <tr>\n",
              "      <th>53088</th>\n",
              "      <td>11744860569481500000</td>\n",
              "      <td>22</td>\n",
              "      <td>1</td>\n",
              "      <td>3</td>\n",
              "      <td>3</td>\n",
              "      <td>3</td>\n",
              "      <td>0</td>\n",
              "      <td>2</td>\n",
              "    </tr>\n",
              "    <tr>\n",
              "      <th>53089</th>\n",
              "      <td>1435955332935190000</td>\n",
              "      <td>22</td>\n",
              "      <td>1</td>\n",
              "      <td>3</td>\n",
              "      <td>3</td>\n",
              "      <td>3</td>\n",
              "      <td>0</td>\n",
              "      <td>2</td>\n",
              "    </tr>\n",
              "    <tr>\n",
              "      <th>53090</th>\n",
              "      <td>3869047154407170000</td>\n",
              "      <td>22</td>\n",
              "      <td>1</td>\n",
              "      <td>4</td>\n",
              "      <td>3</td>\n",
              "      <td>4</td>\n",
              "      <td>0</td>\n",
              "      <td>2</td>\n",
              "    </tr>\n",
              "    <tr>\n",
              "      <th>53091</th>\n",
              "      <td>5586408959507350000</td>\n",
              "      <td>22</td>\n",
              "      <td>1</td>\n",
              "      <td>1</td>\n",
              "      <td>1</td>\n",
              "      <td>1</td>\n",
              "      <td>0</td>\n",
              "      <td>2</td>\n",
              "    </tr>\n",
              "    <tr>\n",
              "      <th>53092</th>\n",
              "      <td>17102434173308400000</td>\n",
              "      <td>21</td>\n",
              "      <td>2</td>\n",
              "      <td>1</td>\n",
              "      <td>1</td>\n",
              "      <td>1</td>\n",
              "      <td>0</td>\n",
              "      <td>1</td>\n",
              "    </tr>\n",
              "  </tbody>\n",
              "</table>\n",
              "<p>53093 rows × 8 columns</p>\n",
              "</div>"
            ],
            "text/plain": [
              "                      pplid  dunid jantina  ... bangsasabah umur41_ats parti\n",
              "0      14904417058079100000     22       1  ...           3          1     2\n",
              "1       8856425594602710000     22       2  ...           3          1     1\n",
              "2       9030229112814880000     21       2  ...           2          1     1\n",
              "3      17366212710566700000     22       1  ...           2          1     1\n",
              "4       2285398768685050000     22       1  ...           3          1     1\n",
              "...                     ...    ...     ...  ...         ...        ...   ...\n",
              "53088  11744860569481500000     22       1  ...           3          0     2\n",
              "53089   1435955332935190000     22       1  ...           3          0     2\n",
              "53090   3869047154407170000     22       1  ...           4          0     2\n",
              "53091   5586408959507350000     22       1  ...           1          0     2\n",
              "53092  17102434173308400000     21       2  ...           1          0     1\n",
              "\n",
              "[53093 rows x 8 columns]"
            ]
          },
          "metadata": {
            "tags": []
          },
          "execution_count": 70
        }
      ]
    },
    {
      "cell_type": "code",
      "metadata": {
        "id": "-fKtszZ8NICM"
      },
      "source": [
        "#define dependent variable\n",
        "y= pru14['parti'].values\n",
        "y=y.astype('int')"
      ],
      "execution_count": null,
      "outputs": []
    },
    {
      "cell_type": "code",
      "metadata": {
        "id": "RYu0Yq73OedW"
      },
      "source": [
        "#define independent varialbe\n",
        "x = pru14.drop(labels=['parti'], axis=1)"
      ],
      "execution_count": null,
      "outputs": []
    },
    {
      "cell_type": "code",
      "metadata": {
        "colab": {
          "base_uri": "https://localhost:8080/",
          "height": 419
        },
        "id": "AWI-eVXLP9dV",
        "outputId": "df0ebc38-8f29-4048-9fda-58269b7a1bed"
      },
      "source": [
        "#split data into train and test datasets\n",
        "from sklearn.model_selection import train_test_split\n",
        "x_train, x_test, y_train , y_test = train_test_split(x,y, test_size=0.1, random_state=20)\n",
        "\n",
        "x_train"
      ],
      "execution_count": null,
      "outputs": [
        {
          "output_type": "execute_result",
          "data": {
            "text/html": [
              "<div>\n",
              "<style scoped>\n",
              "    .dataframe tbody tr th:only-of-type {\n",
              "        vertical-align: middle;\n",
              "    }\n",
              "\n",
              "    .dataframe tbody tr th {\n",
              "        vertical-align: top;\n",
              "    }\n",
              "\n",
              "    .dataframe thead th {\n",
              "        text-align: right;\n",
              "    }\n",
              "</style>\n",
              "<table border=\"1\" class=\"dataframe\">\n",
              "  <thead>\n",
              "    <tr style=\"text-align: right;\">\n",
              "      <th></th>\n",
              "      <th>pplid</th>\n",
              "      <th>dunid</th>\n",
              "      <th>jantina</th>\n",
              "      <th>bangsasemenanjung</th>\n",
              "      <th>bangsasarawak</th>\n",
              "      <th>bangsasabah</th>\n",
              "      <th>umur41_ats</th>\n",
              "    </tr>\n",
              "  </thead>\n",
              "  <tbody>\n",
              "    <tr>\n",
              "      <th>45808</th>\n",
              "      <td>5448141516780890000</td>\n",
              "      <td>22</td>\n",
              "      <td>1</td>\n",
              "      <td>2</td>\n",
              "      <td>2</td>\n",
              "      <td>2</td>\n",
              "      <td>0</td>\n",
              "    </tr>\n",
              "    <tr>\n",
              "      <th>38046</th>\n",
              "      <td>17636947920694400000</td>\n",
              "      <td>21</td>\n",
              "      <td>1</td>\n",
              "      <td>4</td>\n",
              "      <td>3</td>\n",
              "      <td>1</td>\n",
              "      <td>0</td>\n",
              "    </tr>\n",
              "    <tr>\n",
              "      <th>5047</th>\n",
              "      <td>4807458813508980000</td>\n",
              "      <td>22</td>\n",
              "      <td>2</td>\n",
              "      <td>2</td>\n",
              "      <td>2</td>\n",
              "      <td>2</td>\n",
              "      <td>1</td>\n",
              "    </tr>\n",
              "    <tr>\n",
              "      <th>14641</th>\n",
              "      <td>4777136722622180000</td>\n",
              "      <td>22</td>\n",
              "      <td>2</td>\n",
              "      <td>2</td>\n",
              "      <td>2</td>\n",
              "      <td>2</td>\n",
              "      <td>1</td>\n",
              "    </tr>\n",
              "    <tr>\n",
              "      <th>43386</th>\n",
              "      <td>714286577137475000</td>\n",
              "      <td>22</td>\n",
              "      <td>1</td>\n",
              "      <td>1</td>\n",
              "      <td>1</td>\n",
              "      <td>1</td>\n",
              "      <td>0</td>\n",
              "    </tr>\n",
              "    <tr>\n",
              "      <th>...</th>\n",
              "      <td>...</td>\n",
              "      <td>...</td>\n",
              "      <td>...</td>\n",
              "      <td>...</td>\n",
              "      <td>...</td>\n",
              "      <td>...</td>\n",
              "      <td>...</td>\n",
              "    </tr>\n",
              "    <tr>\n",
              "      <th>23452</th>\n",
              "      <td>7216120040758810000</td>\n",
              "      <td>22</td>\n",
              "      <td>2</td>\n",
              "      <td>3</td>\n",
              "      <td>3</td>\n",
              "      <td>3</td>\n",
              "      <td>1</td>\n",
              "    </tr>\n",
              "    <tr>\n",
              "      <th>23775</th>\n",
              "      <td>4043832662247350000</td>\n",
              "      <td>22</td>\n",
              "      <td>1</td>\n",
              "      <td>1</td>\n",
              "      <td>1</td>\n",
              "      <td>1</td>\n",
              "      <td>1</td>\n",
              "    </tr>\n",
              "    <tr>\n",
              "      <th>37135</th>\n",
              "      <td>3119329951637780000</td>\n",
              "      <td>21</td>\n",
              "      <td>2</td>\n",
              "      <td>4</td>\n",
              "      <td>3</td>\n",
              "      <td>1</td>\n",
              "      <td>0</td>\n",
              "    </tr>\n",
              "    <tr>\n",
              "      <th>27098</th>\n",
              "      <td>16626503219289000000</td>\n",
              "      <td>21</td>\n",
              "      <td>1</td>\n",
              "      <td>3</td>\n",
              "      <td>3</td>\n",
              "      <td>3</td>\n",
              "      <td>1</td>\n",
              "    </tr>\n",
              "    <tr>\n",
              "      <th>48483</th>\n",
              "      <td>17764353757567400000</td>\n",
              "      <td>22</td>\n",
              "      <td>1</td>\n",
              "      <td>4</td>\n",
              "      <td>3</td>\n",
              "      <td>1</td>\n",
              "      <td>0</td>\n",
              "    </tr>\n",
              "  </tbody>\n",
              "</table>\n",
              "<p>47783 rows × 7 columns</p>\n",
              "</div>"
            ],
            "text/plain": [
              "                      pplid  dunid  ... bangsasabah umur41_ats\n",
              "45808   5448141516780890000     22  ...           2          0\n",
              "38046  17636947920694400000     21  ...           1          0\n",
              "5047    4807458813508980000     22  ...           2          1\n",
              "14641   4777136722622180000     22  ...           2          1\n",
              "43386    714286577137475000     22  ...           1          0\n",
              "...                     ...    ...  ...         ...        ...\n",
              "23452   7216120040758810000     22  ...           3          1\n",
              "23775   4043832662247350000     22  ...           1          1\n",
              "37135   3119329951637780000     21  ...           1          0\n",
              "27098  16626503219289000000     21  ...           3          1\n",
              "48483  17764353757567400000     22  ...           1          0\n",
              "\n",
              "[47783 rows x 7 columns]"
            ]
          },
          "metadata": {
            "tags": []
          },
          "execution_count": 73
        }
      ]
    },
    {
      "cell_type": "code",
      "metadata": {
        "colab": {
          "base_uri": "https://localhost:8080/"
        },
        "id": "xmL-cOB1T5mG",
        "outputId": "777a03dc-3a22-4ac0-90f8-3ca98851ab61"
      },
      "source": [
        " from sklearn.ensemble import RandomForestClassifier\n",
        "\n",
        " model = RandomForestClassifier(n_estimators = 10, random_state=30)\n",
        "\n",
        " model.fit(x_train, y_train)\n"
      ],
      "execution_count": null,
      "outputs": [
        {
          "output_type": "execute_result",
          "data": {
            "text/plain": [
              "RandomForestClassifier(bootstrap=True, ccp_alpha=0.0, class_weight=None,\n",
              "                       criterion='gini', max_depth=None, max_features='auto',\n",
              "                       max_leaf_nodes=None, max_samples=None,\n",
              "                       min_impurity_decrease=0.0, min_impurity_split=None,\n",
              "                       min_samples_leaf=1, min_samples_split=2,\n",
              "                       min_weight_fraction_leaf=0.0, n_estimators=10,\n",
              "                       n_jobs=None, oob_score=False, random_state=30, verbose=0,\n",
              "                       warm_start=False)"
            ]
          },
          "metadata": {
            "tags": []
          },
          "execution_count": 87
        }
      ]
    },
    {
      "cell_type": "code",
      "metadata": {
        "colab": {
          "base_uri": "https://localhost:8080/"
        },
        "id": "wD5-lyCqVSFv",
        "outputId": "b8c9c112-23ca-4184-89a0-6a12631deb54"
      },
      "source": [
        "prediction_test = model.predict(x_test)\n",
        "prediction_test"
      ],
      "execution_count": null,
      "outputs": [
        {
          "output_type": "execute_result",
          "data": {
            "text/plain": [
              "array([2, 1, 2, ..., 2, 1, 1])"
            ]
          },
          "metadata": {
            "tags": []
          },
          "execution_count": 88
        }
      ]
    },
    {
      "cell_type": "code",
      "metadata": {
        "colab": {
          "base_uri": "https://localhost:8080/"
        },
        "id": "tOw_m7KaVpCd",
        "outputId": "bdca61a4-9921-431c-c466-7bac78e68f65"
      },
      "source": [
        "from sklearn import metrics \n",
        "print(\"Accuracy =\", metrics.accuracy_score(y_test, prediction_test))"
      ],
      "execution_count": null,
      "outputs": [
        {
          "output_type": "stream",
          "text": [
            "Accuracy = 0.7711864406779662\n"
          ],
          "name": "stdout"
        }
      ]
    },
    {
      "cell_type": "code",
      "metadata": {
        "colab": {
          "base_uri": "https://localhost:8080/"
        },
        "id": "9-6JCXORWw13",
        "outputId": "a683d19c-2af3-4aeb-d5ce-cbfab6a8479e"
      },
      "source": [
        "feature_list=list(x.columns)\n",
        "feature_imp=pd.Series(model.feature_importances_, index=feature_list).sort_values(ascending=False)\n",
        "feature_imp"
      ],
      "execution_count": null,
      "outputs": [
        {
          "output_type": "execute_result",
          "data": {
            "text/plain": [
              "dunid                0.456817\n",
              "pplid                0.437906\n",
              "bangsasabah          0.066035\n",
              "bangsasarawak        0.023070\n",
              "bangsasemenanjung    0.012761\n",
              "umur41_ats           0.002481\n",
              "jantina              0.000930\n",
              "dtype: float64"
            ]
          },
          "metadata": {
            "tags": []
          },
          "execution_count": 77
        }
      ]
    },
    {
      "cell_type": "code",
      "metadata": {
        "id": "_raQkogtadxv"
      },
      "source": [
        "y_test= pd.DataFrame(y_test)"
      ],
      "execution_count": null,
      "outputs": []
    },
    {
      "cell_type": "code",
      "metadata": {
        "colab": {
          "base_uri": "https://localhost:8080/"
        },
        "id": "5DUsVqBLaySK",
        "outputId": "f35022d1-d58b-47cd-9377-e08756d7aef5"
      },
      "source": [
        "len(y_test)"
      ],
      "execution_count": null,
      "outputs": [
        {
          "output_type": "execute_result",
          "data": {
            "text/plain": [
              "5310"
            ]
          },
          "metadata": {
            "tags": []
          },
          "execution_count": 79
        }
      ]
    },
    {
      "cell_type": "code",
      "metadata": {
        "colab": {
          "base_uri": "https://localhost:8080/"
        },
        "id": "5E_bAFTlbKpV",
        "outputId": "fb6b56d2-1d9f-475b-b5c3-36de57e2b418"
      },
      "source": [
        "sizes= y_test.value_counts(sort=1)\n",
        "sizes"
      ],
      "execution_count": null,
      "outputs": [
        {
          "output_type": "execute_result",
          "data": {
            "text/plain": [
              "1    2696\n",
              "2    2322\n",
              "3     292\n",
              "dtype: int64"
            ]
          },
          "metadata": {
            "tags": []
          },
          "execution_count": 84
        }
      ]
    },
    {
      "cell_type": "code",
      "metadata": {
        "id": "LEf_nxKudnX2"
      },
      "source": [
        "prediction_test= pd.DataFrame(prediction_test)"
      ],
      "execution_count": null,
      "outputs": []
    },
    {
      "cell_type": "code",
      "metadata": {
        "colab": {
          "base_uri": "https://localhost:8080/"
        },
        "id": "ImuUdVwEduPc",
        "outputId": "2227e07c-6d83-47ba-dae8-b3db27fe255f"
      },
      "source": [
        "sizes= prediction_test.value_counts(sort=1)\n",
        "sizes"
      ],
      "execution_count": null,
      "outputs": [
        {
          "output_type": "execute_result",
          "data": {
            "text/plain": [
              "1    2795\n",
              "2    2279\n",
              "3     236\n",
              "dtype: int64"
            ]
          },
          "metadata": {
            "tags": []
          },
          "execution_count": 86
        }
      ]
    }
  ]
}